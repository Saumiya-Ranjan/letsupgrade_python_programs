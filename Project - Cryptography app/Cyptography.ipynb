{
 "cells": [
  {
   "cell_type": "markdown",
   "metadata": {},
   "source": [
    "# Develop a cryptography app in python"
   ]
  },
  {
   "cell_type": "code",
   "execution_count": null,
   "metadata": {},
   "outputs": [
    {
     "name": "stdout",
     "output_type": "stream",
     "text": [
      "Enter the Content you want to Encrypt in your python Scripthello,My name is saumiya.\n",
      "b'zvDb2gvmaVcX_92Jl-Mm7pT5hA-PVNNyJCzBfaabxQM='\n",
      "<class 'bytes'>\n",
      "b'zvDb2gvmaVcX_92Jl-Mm7pT5hA-PVNNyJCzBfaabxQM='\n"
     ]
    }
   ],
   "source": [
    "from cryptography.fernet import Fernet\n",
    "def genratePassKey():\n",
    "    key = Fernet.generate_key()\n",
    "    print(key)\n",
    "    print(type(key))\n",
    "    return key\n",
    "def getMyKey():\n",
    "    abc = open(\"PasswordKey.key\",'rb')\n",
    "    return abc.read()\n",
    "def getContentFromUser():\n",
    "    return input(\"Enter the Content you want to Encrypt in your python Script\")\n",
    "def encryptMessage(message_normal):\n",
    "    key = input(\"Enter the key -->\")\n",
    "    k = Fernet(key(utf-8))\n",
    "    encrypted_Message = k.encrypt(message_normal)\n",
    "    return encrypted_Message\n",
    "def decryptMessage(message_secret,key):\n",
    "    k = Fernet(key(utf-8))\n",
    "    decrypted_Message = k.decrypt(message_secret)\n",
    "    return decrypted_Message\n",
    "userMessage = getContentFromUser()\n",
    "print(genratePassKey())\n",
    "e_m = encryptMessage(userMessage)"
   ]
  },
  {
   "cell_type": "code",
   "execution_count": null,
   "metadata": {},
   "outputs": [],
   "source": []
  }
 ],
 "metadata": {
  "kernelspec": {
   "display_name": "Python 3",
   "language": "python",
   "name": "python3"
  },
  "language_info": {
   "codemirror_mode": {
    "name": "ipython",
    "version": 3
   },
   "file_extension": ".py",
   "mimetype": "text/x-python",
   "name": "python",
   "nbconvert_exporter": "python",
   "pygments_lexer": "ipython3",
   "version": "3.8.3"
  }
 },
 "nbformat": 4,
 "nbformat_minor": 4
}
