{
 "cells": [
  {
   "cell_type": "markdown",
   "metadata": {},
   "source": [
    "# Use IF ELSE and ELIF to write a program in python for your Report Cards."
   ]
  },
  {
   "cell_type": "code",
   "execution_count": 10,
   "metadata": {},
   "outputs": [
    {
     "name": "stdout",
     "output_type": "stream",
     "text": [
      "Enter the marks in Math\n",
      "87\n",
      "Enter the marks in Sanskrit\n",
      "78\n",
      "Enter the marks in English\n",
      "78\n",
      "Enter the marks in Hindi\n",
      "98\n",
      "Congrats you got A grade\n"
     ]
    }
   ],
   "source": [
    "a = int(input(\"Enter the marks in Math\\n\"))\n",
    "b = int(input(\"Enter the marks in Sanskrit\\n\"))\n",
    "c = int(input(\"Enter the marks in English\\n\"))\n",
    "d = int(input(\"Enter the marks in Hindi\\n\"))\n",
    "\n",
    "total= (a+b+c+d)\n",
    "#print(total)\n",
    "per= ((total*100)/400)\n",
    "#print(per)\n",
    "if per>=90:\n",
    "    print(\"Congrats you got A+ grade\")\n",
    "elif per>=80 and per<90:\n",
    "    print(\"Congrats you got A grade\")\n",
    "elif per>=70 and per<80:\n",
    "    print(\"Congrats you got B+ grade\")\n",
    "elif per>=60 and per<70:\n",
    "    print(\"Congrats you got B grade\")\n",
    "elif per>=70 and per<60:\n",
    "    print(\"Congrats you got C+ grade\")\n",
    "elif per>=60 and per<50:\n",
    "    print(\"Congrats you got C grade\")\n",
    "elif per>=50 and per<40:\n",
    "    print(\"Congrats you got D grade\")\n",
    "else:\n",
    "    print(\"Fail\")"
   ]
  },
  {
   "cell_type": "code",
   "execution_count": null,
   "metadata": {},
   "outputs": [],
   "source": []
  }
 ],
 "metadata": {
  "kernelspec": {
   "display_name": "Python 3",
   "language": "python",
   "name": "python3"
  },
  "language_info": {
   "codemirror_mode": {
    "name": "ipython",
    "version": 3
   },
   "file_extension": ".py",
   "mimetype": "text/x-python",
   "name": "python",
   "nbconvert_exporter": "python",
   "pygments_lexer": "ipython3",
   "version": "3.8.3"
  }
 },
 "nbformat": 4,
 "nbformat_minor": 4
}
