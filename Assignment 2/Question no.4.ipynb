{
 "cells": [
  {
   "cell_type": "markdown",
   "metadata": {},
   "source": [
    "# Write a program to Print X Prime Numbers using While Loop starting from 0, and take the Input of X from the user."
   ]
  },
  {
   "cell_type": "code",
   "execution_count": 11,
   "metadata": {},
   "outputs": [
    {
     "name": "stdout",
     "output_type": "stream",
     "text": [
      "Enter the positive number:\n",
      "8\n",
      "Prime numbers between 0 and 8 are:\n",
      " 0  2  3  5  7 "
     ]
    }
   ],
   "source": [
    "max=int(input(\"Enter the positive number:\\n\"))\n",
    "number=0\n",
    "print(\"Prime numbers between\",0, \"and\",max,\"are:\")\n",
    "while(number<=max):\n",
    "        count=0\n",
    "        i=2\n",
    "        while(i<=number//2):\n",
    "            if(number % i==0):\n",
    "                count=count+1\n",
    "                break\n",
    "            i = i + 1\n",
    "        if(count==0 and number !=1):\n",
    "            print(\" %d\" %number, end=' ')\n",
    "        number = number + 1 "
   ]
  },
  {
   "cell_type": "code",
   "execution_count": null,
   "metadata": {},
   "outputs": [],
   "source": []
  }
 ],
 "metadata": {
  "kernelspec": {
   "display_name": "Python 3",
   "language": "python",
   "name": "python3"
  },
  "language_info": {
   "codemirror_mode": {
    "name": "ipython",
    "version": 3
   },
   "file_extension": ".py",
   "mimetype": "text/x-python",
   "name": "python",
   "nbconvert_exporter": "python",
   "pygments_lexer": "ipython3",
   "version": "3.8.3"
  }
 },
 "nbformat": 4,
 "nbformat_minor": 4
}
