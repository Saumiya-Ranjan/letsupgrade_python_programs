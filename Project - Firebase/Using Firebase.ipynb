{
 "cells": [
  {
   "cell_type": "markdown",
   "metadata": {},
   "source": [
    "# Read and write to a real time database to a server using firebase"
   ]
  },
  {
   "cell_type": "code",
   "execution_count": 4,
   "metadata": {},
   "outputs": [
    {
     "ename": "SyntaxError",
     "evalue": "invalid character in identifier (<ipython-input-4-8e1c72324dc5>, line 8)",
     "output_type": "error",
     "traceback": [
      "\u001b[1;36m  File \u001b[1;32m\"<ipython-input-4-8e1c72324dc5>\"\u001b[1;36m, line \u001b[1;32m8\u001b[0m\n\u001b[1;33m    dit = {\"firstName\":”Saumiya_Ranjan”,\"lastName\":”Mishra”,”age”:19}\u001b[0m\n\u001b[1;37m                                      ^\u001b[0m\n\u001b[1;31mSyntaxError\u001b[0m\u001b[1;31m:\u001b[0m invalid character in identifier\n"
     ]
    }
   ],
   "source": [
    "import firebase_admin\n",
    "from firebase_admin import credentials\n",
    "from firebase_admin import firestore\n",
    "cred = credentials.Certificate(\"python-demo-letsupgrade-firebase-adminsdk-uarq8-8b119e9481.json\")\n",
    "firebase_admin.initialize_app(cred)\n",
    "db = firestore.client()\n",
    "doc_ref = db.collection(u'LetsUpgradeUsers').document()\n",
    "dit = {\"firstName\":”Saumiya_Ranjan”,\"lastName\":”Mishra”,”age”:19}\n",
    "doc_ref.set(dit)\n",
    "docs = db.collection(u'LetsUpgradeUsers').stream()\n",
    "for doc in docs:\n",
    "print(\"ID - \", doc.id)\n",
    "print(\"First Name - \", doc.to_dict().get(\"firstName\"))\n",
    "print(\"Last Name - \", doc.to_dict().get(\"lastName\"))\n",
    "print(\"Age - \", doc.to_dict().get(\"age\") )"
   ]
  },
  {
   "cell_type": "code",
   "execution_count": null,
   "metadata": {},
   "outputs": [],
   "source": []
  }
 ],
 "metadata": {
  "kernelspec": {
   "display_name": "Python 3",
   "language": "python",
   "name": "python3"
  },
  "language_info": {
   "codemirror_mode": {
    "name": "ipython",
    "version": 3
   },
   "file_extension": ".py",
   "mimetype": "text/x-python",
   "name": "python",
   "nbconvert_exporter": "python",
   "pygments_lexer": "ipython3",
   "version": "3.8.3"
  }
 },
 "nbformat": 4,
 "nbformat_minor": 4
}
