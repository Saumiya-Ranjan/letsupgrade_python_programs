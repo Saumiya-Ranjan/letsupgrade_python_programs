{
 "cells": [
  {
   "cell_type": "markdown",
   "metadata": {},
   "source": [
    "# Email sending using python"
   ]
  },
  {
   "cell_type": "code",
   "execution_count": 9,
   "metadata": {},
   "outputs": [],
   "source": [
    "import emails\n",
    "message=emails.html(html='''<p>Hello Everyone,</p>\n",
    "<p>This is my <strong>project</strong> for <strong>sending Emails</strong> using <strong>Python</strong></p>\n",
    "<p>&nbsp;In this I have used emails library to send emails and temp mail to send and receive emails.</p>\n",
    "<p><br></p>''',subject=\"Python project\",mail_from=('Python Project Admin','#Mail from some user'))\n",
    "mail_via_python=message.send(to='#mail id to whom you want to send', smtp={'host': 'smtp.gmail.com', 'timeout': 5,'port':587,'tls':True,'user':'#mail id from which you want to send','password':'#password of account from which you want to send'})"
   ]
  },
  {
   "cell_type": "code",
   "execution_count": 10,
   "metadata": {},
   "outputs": [
    {
     "data": {
      "text/plain": [
       "<emails.backend.SMTPResponse status_code=None status_text=None>"
      ]
     },
     "execution_count": 10,
     "metadata": {},
     "output_type": "execute_result"
    }
   ],
   "source": [
    "mail_via_python"
   ]
  }
 ],
 "metadata": {
  "kernelspec": {
   "display_name": "Python 3",
   "language": "python",
   "name": "python3"
  },
  "language_info": {
   "codemirror_mode": {
    "name": "ipython",
    "version": 3
   },
   "file_extension": ".py",
   "mimetype": "text/x-python",
   "name": "python",
   "nbconvert_exporter": "python",
   "pygments_lexer": "ipython3",
   "version": "3.8.3"
  }
 },
 "nbformat": 4,
 "nbformat_minor": 4
}
